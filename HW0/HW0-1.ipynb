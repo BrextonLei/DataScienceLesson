{
 "cells": [
  {
   "cell_type": "code",
   "execution_count": 150,
   "id": "65bee064",
   "metadata": {},
   "outputs": [
    {
     "name": "stdout",
     "output_type": "stream",
     "text": [
      "input the poly:(X+2*Y)(2*X^2-Y^2+Z)\n"
     ]
    }
   ],
   "source": [
    "#1 Io[i][j][k][l], Io[i][j][0]==系數 Io[i][j][1][0]=未知數 Io[i][j][1][1]=次方\n",
    "In=input(\"input the poly:\")\n",
    "Io=[]\n",
    "In=In.strip('(').strip(')')\n",
    "In=In.replace(')(',',')\n",
    "Io=In.split(',')\n",
    "#print(Io)\n",
    "for i in range(len(Io)):\n",
    "    if '-' in Io[i]:\n",
    "        Io[i]=Io[i].replace('-','+-')\n",
    "    Io[i]=Io[i].split('+')\n",
    "#print(Io)\n",
    "for i in range(len(Io)):\n",
    "    for j in range(len(Io[i])):\n",
    "        if Io[i][j][0].isdigit() or (Io[i][j][0]=='-' and Io[i][j][1].isdigit()):\n",
    "            Io[i][j]=Io[i][j].split('*')\n",
    "        elif Io[i][j][0]=='-' and Io[i][j][1].isdigit()==0:\n",
    "            Io[i][j]=Io[i][j].split('-')\n",
    "            Io[i][j][0]=-1\n",
    "        else:\n",
    "            Io[i][j]=['1',Io[i][j]]\n",
    "#print(Io)\n",
    "for i in range(len(Io)):\n",
    "    for j in range(len(Io[i])):\n",
    "        if '^' in Io[i][j][1]:\n",
    "            Io[i][j][1]=Io[i][j][1].split('^')\n",
    "            #[Io[i][j][1]]=Io[i][j][1]\n",
    "        else:\n",
    "            Io[i][j][1]=[Io[i][j][1],1]\n",
    "#print(Io)"
   ]
  },
  {
   "cell_type": "code",
   "execution_count": 151,
   "id": "2c190fd5",
   "metadata": {},
   "outputs": [
    {
     "name": "stdout",
     "output_type": "stream",
     "text": [
      "2*X^3-XY^2+XZ+4*YX^2-2*Y^3+2*YZ\n"
     ]
    }
   ],
   "source": [
    "ans=[]\n",
    "for i in range(len(Io[0])):\n",
    "    for j in range(len(Io[1])):\n",
    "        #print(Io[0][i][1][0],Io[1][j][1][0])\n",
    "        if Io[0][i][1][0]!=Io[1][j][1][0]:\n",
    "            ans.append([(int(Io[0][i][0])*int(Io[1][j][0])),str(Io[0][i][1][0])+'^'+str(Io[0][i][1][1])+str(Io[1][j][1][0])+'^'+str(Io[1][j][1][1]),1])\n",
    "        #次方相加\n",
    "        else:\n",
    "            ans.append([(int(Io[0][i][0])*int(Io[1][j][0])),str(Io[0][i][1][0]),int(Io[0][i][1][1])+int(Io[1][j][1][1])])\n",
    "#print(ans)\n",
    "Ans=''\n",
    "for i in range(len(ans)):\n",
    "    for j in range(len(ans[i])):\n",
    "        if j==0:\n",
    "            if int(ans[i][0])==1:\n",
    "                Ans+='+'\n",
    "            elif int(ans[i][0])>1:\n",
    "                Ans+='+'+str(ans[i][j])+'*'\n",
    "            elif int(ans[i][0])==-1:\n",
    "                Ans+='-'\n",
    "            elif int(ans[i][0])<-1:\n",
    "                Ans+=str(ans[i][j])+'*'\n",
    "        elif j==1:\n",
    "            if '^1' in str(ans[i][j]):\n",
    "                ans[i][j]=ans[i][j].replace('^1','')\n",
    "                #print('wewe')\n",
    "                Ans+=str(ans[i][j])\n",
    "            else:\n",
    "                Ans+=str(ans[i][j])\n",
    "        elif j==2:\n",
    "            if int(ans[i][j])==1:\n",
    "                ;\n",
    "            else:\n",
    "                Ans+='^'+str(ans[i][j])\n",
    "if Ans[0]=='+':\n",
    "    Ans=Ans[1:]\n",
    "print(Ans)"
   ]
  },
  {
   "cell_type": "code",
   "execution_count": null,
   "id": "7c414c71",
   "metadata": {},
   "outputs": [],
   "source": []
  }
 ],
 "metadata": {
  "kernelspec": {
   "display_name": "Python 3 (ipykernel)",
   "language": "python",
   "name": "python3"
  },
  "language_info": {
   "codemirror_mode": {
    "name": "ipython",
    "version": 3
   },
   "file_extension": ".py",
   "mimetype": "text/x-python",
   "name": "python",
   "nbconvert_exporter": "python",
   "pygments_lexer": "ipython3",
   "version": "3.8.6"
  }
 },
 "nbformat": 4,
 "nbformat_minor": 5
}
