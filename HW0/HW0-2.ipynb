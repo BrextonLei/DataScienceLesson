{
 "cells": [
  {
   "cell_type": "code",
   "execution_count": 9,
   "id": "34431be8",
   "metadata": {},
   "outputs": [],
   "source": [
    "I020=[line.strip(\"\\n\").split(\",\") for line in open(\"IMDB-Movie-Data.csv\")]"
   ]
  },
  {
   "cell_type": "code",
   "execution_count": null,
   "id": "d47de7b4",
   "metadata": {},
   "outputs": [],
   "source": [
    "#此次database資料缺項頗多"
   ]
  },
  {
   "cell_type": "code",
   "execution_count": 75,
   "id": "33e7c8a3",
   "metadata": {},
   "outputs": [
    {
     "name": "stdout",
     "output_type": "stream",
     "text": [
      "Top 1 movie: The Dark Knight ,Rating: 9\n",
      "Top 2 movie: Inception ,Rating: 8.8\n",
      "Top 3 movie: Dangal ,Rating: 8.8\n"
     ]
    }
   ],
   "source": [
    "#1\n",
    "I020a=[]\n",
    "for i in range(1,len(I020)):\n",
    "    I020a.append([I020[i][1],I020[i][7]])\n",
    "sorted(I020a, key = lambda s: s[1])\n",
    "print(\"Top 1 movie:\",I020a[0][0],\",Rating:\",I020a[0][1])\n",
    "print(\"Top 2 movie:\",I020a[1][0],\",Rating:\",I020a[1][1])\n",
    "print(\"Top 3 movie:\",I020a[2][0],\",Rating:\",I020a[2][1])"
   ]
  },
  {
   "cell_type": "code",
   "execution_count": 95,
   "id": "1c481fe5",
   "metadata": {},
   "outputs": [
    {
     "name": "stdout",
     "output_type": "stream",
     "text": [
      "The actor generating the highest average revenue is Daisy Ridley , Avg revenue is 936 (Millions).\n"
     ]
    }
   ],
   "source": [
    "#2\n",
    "I020=[line.strip(\"\\n\").split(\",\") for line in open(\"IMDB-Movie-Data.csv\")]\n",
    "#b1先抓出所有演員的名字陣列\n",
    "I020b1=[]\n",
    "#b2[i][0]=演員名字 [i[1]=所有演過的電影個別票房\n",
    "I020b2=[]\n",
    "for i in range(1,len(I020)):\n",
    "    temp=[]\n",
    "    temp=I020[i][4].split(\"|\")\n",
    "    for p in range(len(temp)):\n",
    "        if str(temp[p])[0]==' ':\n",
    "            temp[p]=temp[p].strip(' ')\n",
    "    I020b1.append(temp)\n",
    "#print(I020b1)\n",
    "for i in range(0,len(I020b1)):\n",
    "    for j in range(0,len(I020b1[i])):\n",
    "        if I020b1[i][j] in I020b2:\n",
    "            ;\n",
    "        else:\n",
    "            if str(I020b1[i][j])[0]==' ':\n",
    "                I020b1[i][j]=I020b1[i][j].strip(' ')\n",
    "            else:\n",
    "                I020b2.append([I020b1[i][j],[],0])\n",
    "x=0\n",
    "#print(I020b2)\n",
    "for i in range(1,len(I020)):\n",
    "    I020[i][4]=I020[i][4].split(\"|\")\n",
    "    for j in range(len(I020[i][4])):\n",
    "        if str(I020[i][4][j])[0]==' ':\n",
    "            I020[i][4][j]=I020[i][4][j].strip(' ')\n",
    "            #print(\"OK\")\n",
    "        #print(I020b2[x][0])\n",
    "        #print(I020[i][4][j])\n",
    "        for x in range(0,len(I020b2)):\n",
    "            if I020b2[x][0]==I020[i][4][j]:\n",
    "                #print(I020b2[x][0])\n",
    "                #print(I020[i][4][j])\n",
    "                if I020[i][9]!='':\n",
    "                    I020b2[x][1].append(float(I020[i][9]))\n",
    "                \n",
    "\n",
    "for x in range(len(I020b2)):\n",
    "    #print('x=',x)\n",
    "    if I020b2[x][1]!=[]:\n",
    "        num=len(I020b2[x][1])\n",
    "        Sum=sum(I020b2[x][1])\n",
    "        Avg=Sum/num\n",
    "    else:\n",
    "        Avg=0\n",
    "    I020b2[x][2]=Avg\n",
    "    #I020b2[x][2]/=len(I020b2[x][1])\n",
    "    #print(I020b2[x][2])\n",
    "\n",
    "###再弄個b3只抓人+AVG排列即可\n",
    "I020b3=[]\n",
    "for i in range(len(I020b2)):\n",
    "    I020b3.append([I020b2[i][0],int(I020b2[i][2])])\n",
    "    #I020b3.append(I020b2[i][2])\n",
    "Ans=sorted(I020b3,key=lambda I020b3:I020b3[1], reverse=True)\n",
    "print(\"The actor generating the highest average revenue is\",Ans[0][0],\", Avg revenue is\",Ans[0][1],\"(Millions).\")"
   ]
  },
  {
   "cell_type": "code",
   "execution_count": 2,
   "id": "e03855e8",
   "metadata": {},
   "outputs": [
    {
     "name": "stdout",
     "output_type": "stream",
     "text": [
      "The average rating of Emma Watson’s movies is 7.175 points.\n"
     ]
    }
   ],
   "source": [
    "#3\n",
    "I020=[line.strip(\"\\n\").split(\",\") for line in open(\"IMDB-Movie-Data.csv\")]\n",
    "for i in range(1,len(I020)):\n",
    "    I020[i][4]=I020[i][4].split(\"|\")\n",
    "    for j in range(len(I020[i][4])):\n",
    "        if str(I020[i][4][j])[0]==' ':\n",
    "            I020[i][4][j]=I020[i][4][j].strip(' ')\n",
    "#print(I020)\n",
    "I020c=[]\n",
    "for i in range(1,len(I020)):\n",
    "    if 'Emma Watson' in I020[i][4]:\n",
    "        I020c.append([I020[i][1],I020[i][7]])\n",
    "Sumc=0\n",
    "for i in range(0,len(I020c)):\n",
    "    Sumc+=float(I020c[i][1])\n",
    "AvgRating=(Sumc/len(I020c))\n",
    "print('The average rating of Emma Watson’s movies is',AvgRating,'points.')"
   ]
  },
  {
   "cell_type": "code",
   "execution_count": 260,
   "id": "4b64d16e",
   "metadata": {},
   "outputs": [
    {
     "name": "stdout",
     "output_type": "stream",
     "text": [
      "Top-1 directors who collaborate with the most actors is Ridley Scott num= 28\n",
      "Top-2 directors who collaborate with the most actors is M. Night Shyamalan num= 24\n",
      "Top-3 directors who collaborate with the most actors is Danny Boyle num= 20\n"
     ]
    }
   ],
   "source": [
    "#4\n",
    "I020=[line.strip(\"\\n\").split(\",\") for line in open(\"IMDB-Movie-Data.csv\")]\n",
    "for i in range(1,len(I020)):\n",
    "    I020[i][4]=I020[i][4].split(\"|\")\n",
    "    for j in range(len(I020[i][4])):\n",
    "        if str(I020[i][4][j])[0]==' ':\n",
    "            I020[i][4][j]=I020[i][4][j].strip(' ')\n",
    "I020d=[]\n",
    "for i in range(1,len(I020)):\n",
    "    I020d.append([I020[i][3],I020[i][4]])\n",
    "#print(I020d)\n",
    "for i in range(len(I020d)):\n",
    "    for j in range(len(I020d)):\n",
    "        if I020d[j][0]==I020d[i][0] and i!=j:\n",
    "            for k in range(len(I020d[j][1])):\n",
    "                #print(i,j,k)\n",
    "                I020d[i][1].append(I020d[j][1][k])\n",
    "    unique_set = set(I020d[i][1])\n",
    "    unique_list = list(unique_set)\n",
    "    I020d[i][1]=unique_list\n",
    "    I020d[i].append(len(unique_list))\n",
    "\n",
    "#print(I020d) \n",
    "Ansd=sorted(I020d,key=lambda I020d:I020d[2], reverse=True)\n",
    "print('Top-1 directors who collaborate with the most actors is',Ansd[0][0],',num=',Ansd[0][2])\n",
    "print('Top-2 directors who collaborate with the most actors is',Ansd[8][0],',num=',Ansd[8][2])\n",
    "print('Top-3 directors who collaborate with the most actors is',Ansd[14][0],',num=',Ansd[14][2])"
   ]
  },
  {
   "cell_type": "code",
   "execution_count": 356,
   "id": "bb36bc77",
   "metadata": {},
   "outputs": [
    {
     "name": "stdout",
     "output_type": "stream",
     "text": [
      "Top-1 actors playing in the most genres of movies is Philip Seymour Hoffman ,num= 20\n",
      "Top-2 actors playing in the most genres of movies is Ben Kingsley ,num= 20\n",
      "Top-3 actors playing in the most genres of movies is J.K. Simmons ,num= 20\n"
     ]
    }
   ],
   "source": [
    "#5\n",
    "I020=[line.strip(\"\\n\").split(\",\") for line in open(\"IMDB-Movie-Data.csv\")]\n",
    "I020e=[]\n",
    "for i in range(1,len(I020)):\n",
    "    I020[i][4]=I020[i][4].split(\"|\")\n",
    "    I020[i][2]=I020[i][2].split(\"|\")\n",
    "    for j in range(len(I020[i][4])):\n",
    "        if str(I020[i][4][j])[0]==' ':\n",
    "            I020[i][4][j]=I020[i][4][j].strip(' ')\n",
    "    for k in range(len(I020[i][4])):\n",
    "        I020e.append([I020[i][4][k],I020[i][2]])\n",
    "#print(I020e)\n",
    "I020e1=I020e\n",
    "for i in range(len(I020e)):\n",
    "    for j in range(len(I020e1)):\n",
    "        if I020e[i][0]==I020e1[j][0]:\n",
    "            #print(I020e[i][0],I020e[j][0],i,j)\n",
    "            #print(I020e[i][1],I020e1[j][1])\n",
    "            I020e[i][1]+=I020e1[j][1]\n",
    "            #print(I020e[i][1])\n",
    "            #print(I020e[i][1])\n",
    "            #for k in range(len(I020e[j][1])):\n",
    "                #print(i,j,k)\n",
    "                #I020e[i][1].append(I020e[j][1][k])\n",
    "    #print(I020e[i][0],i)\n",
    "    unique_set = set(I020e[i][1])\n",
    "    unique_list = list(unique_set)\n",
    "    I020e[i][1]=unique_list\n",
    "    I020e[i].append(len(unique_list)) \n",
    "    #print(I020e[i])\n",
    "#print(I020e) \n",
    "Anse=sorted(I020e,key=lambda I020e:I020e[2], reverse=True)\n",
    "#print(Anse)\n",
    "\n",
    "print('Top-1 actors playing in the most genres of movies is',Anse[0][0],',num=',Anse[0][2])\n",
    "print('Top-2 actors playing in the most genres of movies is',Anse[1][0],',num=',Anse[1][2])\n",
    "print('Top-3 actors playing in the most genres of movies is',Anse[2][0],',num=',Anse[2][2])"
   ]
  },
  {
   "cell_type": "code",
   "execution_count": 343,
   "id": "cc047302",
   "metadata": {},
   "outputs": [
    {
     "name": "stdout",
     "output_type": "stream",
     "text": [
      "Those 53 actor's movies leading the largest maximum gap of years(10 years):\n",
      "Christian Bale\n",
      "Anne Hathaway\n",
      "Hugh Jackman\n",
      "Scarlett Johansson\n",
      "Matt Damon\n",
      "Mark Wahlberg\n",
      "Brad Pitt\n",
      "Christopher Plummer\n",
      "Tom Hanks\n",
      "Bryce Dallas Howard\n",
      "Chiwetel Ejiofor\n",
      "Ben Kingsley\n",
      "Gerard Butler\n",
      "Eva Green\n",
      "Judi Dench\n",
      "Will Smith\n",
      "Jennifer Connelly\n",
      "Tom Cruise\n",
      "Emily Blunt\n",
      "Kevin Spacey\n",
      "Samuel L. Jackson\n",
      "Steve Carell\n",
      "Edward Norton\n",
      "Will Ferrell\n",
      "Denzel Washington\n",
      "Russell Crowe\n",
      "Toni Collette\n",
      "Meryl Streep\n",
      "Morgan Freeman\n",
      "Dominic West\n",
      "Owen Wilson\n",
      "Michelle Monaghan\n",
      "Jessica Biel\n",
      "Dustin Hoffman\n",
      "Ben Whishaw\n",
      "Paula Patton\n",
      "Abbie Cornish\n",
      "Johnny Depp\n",
      "Jack Davenport\n",
      "Rachel Weisz\n",
      "Ellen Burstyn\n",
      "Kang-ho Song\n",
      "Jeremy Irons\n",
      "Marion Cotillard\n",
      "Kirsten Dunst\n",
      "Jennifer Aniston\n",
      "Justin Theroux\n",
      "Maya Rudolph\n",
      "Kate Bosworth\n",
      "Audrey Tautou\n",
      "Luke Wilson\n",
      "Sacha Baron Cohen\n",
      "Bob Balaban\n"
     ]
    }
   ],
   "source": [
    "#6\n",
    "I020=[line.strip(\"\\n\").split(\",\") for line in open(\"IMDB-Movie-Data.csv\")]\n",
    "I020f1=[]\n",
    "for i in range(1,len(I020)):\n",
    "    I020[i][4]=I020[i][4].split(\"|\")\n",
    "    I020[i][2]=I020[i][2].split(\"|\")\n",
    "    for j in range(len(I020[i][4])):\n",
    "        if str(I020[i][4][j])[0]==' ':\n",
    "            I020[i][4][j]=I020[i][4][j].strip(' ')\n",
    "    for k in range(len(I020[i][4])):\n",
    "        if I020[i][4][k] not in I020f1:\n",
    "            I020f1.append(I020[i][4][k])\n",
    "for i in range(len(I020f1)):\n",
    "    I020f1[i]=[I020f1[i]]\n",
    "    I020f1[i]=[I020f1[i],[]]\n",
    "    [I020f1[i][0]]=I020f1[i][0]\n",
    "#print(I020f1)\n",
    "for i in range(1,len(I020)):\n",
    "    for j in range(len(I020[i][4])):\n",
    "        for k in range(len(I020f1)):\n",
    "            if I020f1[k][0]==I020[i][4][j]:\n",
    "                I020f1[k][1].append(int(I020[i][5]))\n",
    "#print(I020f1)\n",
    "for i in range(len(I020f1)):\n",
    "    I020f1[i].append(max(I020f1[i][1])-min(I020f1[i][1]))\n",
    "Ansf=sorted(I020f1,key=lambda I020f1:I020f1[2], reverse=True)\n",
    "print(\"Those 53 actor's movies leading the largest maximum gap of years(10 years):\")\n",
    "for i in range(53):\n",
    "    print(Ansf[i][0])"
   ]
  },
  {
   "cell_type": "code",
   "execution_count": null,
   "id": "1f02a521",
   "metadata": {},
   "outputs": [],
   "source": []
  }
 ],
 "metadata": {
  "kernelspec": {
   "display_name": "Python 3 (ipykernel)",
   "language": "python",
   "name": "python3"
  },
  "language_info": {
   "codemirror_mode": {
    "name": "ipython",
    "version": 3
   },
   "file_extension": ".py",
   "mimetype": "text/x-python",
   "name": "python",
   "nbconvert_exporter": "python",
   "pygments_lexer": "ipython3",
   "version": "3.8.6"
  }
 },
 "nbformat": 4,
 "nbformat_minor": 5
}
