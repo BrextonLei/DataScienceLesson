{
 "cells": [
  {
   "cell_type": "code",
   "execution_count": 73,
   "id": "6838865c",
   "metadata": {
    "scrolled": true
   },
   "outputs": [
    {
     "name": "stdout",
     "output_type": "stream",
     "text": [
      "input the poly:(EX:請在每項未知數前加上系數，包括1 如1X 1Y)(1X+2Y)(2X2-1Y2+1Z)\n",
      "[['1X', '2Y'], ['2X2', '-1Y2', '1Z']]\n",
      "(2X*X2-1X*Y2+1X*Z+4Y*X2-2Y*Y2+2Y*Z)\n"
     ]
    }
   ],
   "source": [
    "#main function\n",
    "In=input(\"input the poly:(EX:請在每項未知數前加上系數，包括1 如1X -1X 1Y)\")\n",
    "Io=[]\n",
    "In=In.strip('(').strip(')')\n",
    "In=In.replace(')(',',')\n",
    "Io=In.split(',')\n",
    "if len(Io)==2:\n",
    "    if '-' in Io[0]:\n",
    "        Io[0]=Io[0].replace('-','+-')\n",
    "    Io[0]=Io[0].split('+')\n",
    "    if '-' in Io[1]:\n",
    "        Io[1]=Io[1].replace('-','+-')\n",
    "    Io[1]=Io[1].split('+')\n",
    "elif len(Io)==3:\n",
    "    if '-' in Io[0]:\n",
    "        Io[0]=Io[0].replace('-','+-')\n",
    "    Io[0]=Io[0].split('+')\n",
    "    if '-' in Io[1]:\n",
    "        Io[1]=Io[1].replace('-','+-')\n",
    "    Io[1]=Io[1].split('+')\n",
    "    if '-' in Io[2]:\n",
    "        Io[2]=Io[2].replace('-','+-')\n",
    "    Io[2]=Io[2].split('+')\n",
    "print(Io)\n",
    "#plus(Io)\n",
    "if len(Io)==2:\n",
    "    print(EquX(Io[0],Io[1]))\n",
    "#if len(Io)==3:\n",
    "    #sum=''\n",
    "    #sum=EquX(Io[1],Io[2]).replace('*','')\n",
    "    #print(EquX(Io[0],sum))"
   ]
  },
  {
   "cell_type": "code",
   "execution_count": 58,
   "id": "03e9a5df",
   "metadata": {
    "scrolled": true
   },
   "outputs": [],
   "source": [
    "def Sep(a):\n",
    "    b=[]\n",
    "    i=0\n",
    "    #在a[i]之前的數都是參數\n",
    "    while(a[i].isdigit() or a[i]=='-'):\n",
    "        #print(a[i])\n",
    "        i+=1\n",
    "    a=a.replace(a[i],' '+a[i])\n",
    "    b=a.split(' ')\n",
    "    #print(b)\n",
    "    return b\n",
    "#Sep('154C5') \n",
    "\n",
    "def X(a,b):\n",
    "    #代表有平方\n",
    "    if(('^'in Sep(a)[1] or '^'in Sep(b)[1]) and (Sep(a)[1][:-2]==Sep(b)[1][:-2] or Sep(a)[1]==Sep(b)[1][:-2] or Sep(a)[1][:-2]==Sep(b)[1]) ):\n",
    "        print(\"XD\")\n",
    "    else:\n",
    "        if(Sep(a)[1]!=Sep(b)[1]):\n",
    "            return (str(int(Sep(a)[0])*int(Sep(b)[0]))+Sep(a)[1]+'*'+Sep(b)[1])\n",
    "        else:\n",
    "            return (str(int(Sep(a)[0])*int(Sep(b)[0]))+Sep(a)[1]+'^2')\n",
    "#print(X('12C878','12C88^4'))"
   ]
  },
  {
   "cell_type": "code",
   "execution_count": 59,
   "id": "66caced7",
   "metadata": {},
   "outputs": [
    {
     "name": "stdout",
     "output_type": "stream",
     "text": [
      "1x^2+1x*Y\n"
     ]
    }
   ],
   "source": [
    "#一個數和一個式子相乘相加\n",
    "def plus(a,b):\n",
    "    sum=''\n",
    "    for i in range(0,len(b)):\n",
    "         sum+=X(str(a),str(b[i]))\n",
    "         if(i!=len(b)-1 and X(str(a),str(b[i+1]))[0]!='-'):\n",
    "            #print(X(str(a),str(b[i]))[0])\n",
    "            sum+='+'\n",
    "    return sum\n",
    "print(plus(Io[0][0],Io[1]))"
   ]
  },
  {
   "cell_type": "code",
   "execution_count": 60,
   "id": "532d6933",
   "metadata": {},
   "outputs": [
    {
     "data": {
      "text/plain": [
       "'(1x^2+1x*Y+1Y*x+1Y^2)'"
      ]
     },
     "execution_count": 60,
     "metadata": {},
     "output_type": "execute_result"
    }
   ],
   "source": [
    "#兩個式子相乘相加,都用a當基準去乘b\n",
    "def EquX(a,b):\n",
    "    sum=''\n",
    "    for i in range(0,len(a)):\n",
    "        sum+=plus(a[i],b)\n",
    "        if(i!=len(a)-1):\n",
    "            sum+='+'\n",
    "    return '('+sum+')'\n",
    "EquX(Io[0],Io[1])"
   ]
  },
  {
   "cell_type": "code",
   "execution_count": null,
   "id": "097150f2",
   "metadata": {},
   "outputs": [],
   "source": []
  },
  {
   "cell_type": "code",
   "execution_count": null,
   "id": "3416e0ca",
   "metadata": {},
   "outputs": [],
   "source": []
  }
 ],
 "metadata": {
  "kernelspec": {
   "display_name": "Python 3 (ipykernel)",
   "language": "python",
   "name": "python3"
  },
  "language_info": {
   "codemirror_mode": {
    "name": "ipython",
    "version": 3
   },
   "file_extension": ".py",
   "mimetype": "text/x-python",
   "name": "python",
   "nbconvert_exporter": "python",
   "pygments_lexer": "ipython3",
   "version": "3.8.6"
  }
 },
 "nbformat": 4,
 "nbformat_minor": 5
}
