{
 "cells": [
  {
   "cell_type": "code",
   "execution_count": 1,
   "id": "c3edca8a",
   "metadata": {},
   "outputs": [],
   "source": [
    "%matplotlib inline\n",
    "from sklearn.tree import DecisionTreeClassifier \n",
    "from sklearn import tree\n",
    "from sklearn import preprocessing\n",
    "from sklearn.datasets import load_iris\n",
    "from sklearn.model_selection import train_test_split \n",
    "import matplotlib.pyplot as plt \n",
    "import seaborn as sns\n",
    "import pandas as pd\n",
    "import numpy as np\n",
    "import joblib"
   ]
  },
  {
   "cell_type": "code",
   "execution_count": 3,
   "id": "8446007a",
   "metadata": {},
   "outputs": [],
   "source": [
    "train=pd.read_csv('train.csv')\n",
    "Finaltest=pd.read_csv('test.csv')\n",
    "Finaltestinput=Finaltest[['CreditScore','Age','Balance','EstimatedSalary','Tenure','NumOfProducts','HasCrCard','IsActiveMember']].values"
   ]
  },
  {
   "cell_type": "code",
   "execution_count": 4,
   "id": "4ab7335c",
   "metadata": {},
   "outputs": [],
   "source": [
    "allinput=train[['CreditScore','Age','Balance','EstimatedSalary','Tenure','NumOfProducts','HasCrCard','IsActiveMember']].values\n",
    "#print(allinput.shape)\n",
    "allclass=train[['Exited']].values\n",
    "#print(allclass.shape) \n",
    "#sns.pairplot(train,hue='Exited')"
   ]
  },
  {
   "cell_type": "code",
   "execution_count": 5,
   "id": "7f87d974",
   "metadata": {},
   "outputs": [],
   "source": [
    "(trainInput,testInput,trainClass,testClass)=train_test_split(allinput,allclass,train_size=0.7,random_state=1,stratify=allclass)\n",
    "#testInput"
   ]
  },
  {
   "cell_type": "code",
   "execution_count": 7,
   "id": "9a9ed1fe",
   "metadata": {},
   "outputs": [
    {
     "data": {
      "text/plain": [
       "0.8558333333333333"
      ]
     },
     "execution_count": 7,
     "metadata": {},
     "output_type": "execute_result"
    }
   ],
   "source": [
    "DT=DecisionTreeClassifier(max_depth=5)\n",
    "DT.fit(trainInput,trainClass)\n",
    "DT.score(testInput,testClass)"
   ]
  },
  {
   "cell_type": "code",
   "execution_count": 166,
   "id": "48648863",
   "metadata": {},
   "outputs": [
    {
     "data": {
      "text/plain": [
       "['DecisionTree']"
      ]
     },
     "execution_count": 166,
     "metadata": {},
     "output_type": "execute_result"
    }
   ],
   "source": [
    "joblib.dump(DT, 'DecisionTree')"
   ]
  },
  {
   "cell_type": "code",
   "execution_count": 167,
   "id": "f53d2bde",
   "metadata": {},
   "outputs": [
    {
     "name": "stdout",
     "output_type": "stream",
     "text": [
      "[0 0 0 ... 0 0 0]\n"
     ]
    }
   ],
   "source": [
    "loaded_model = joblib.load('DecisionTree')\n",
    "result = loaded_model.predict(Finaltestinput)\n",
    "print(result)"
   ]
  },
  {
   "cell_type": "code",
   "execution_count": 168,
   "id": "80f73a1f",
   "metadata": {},
   "outputs": [],
   "source": [
    "#輸出\n",
    "upload=pd.read_csv('upload.csv')\n",
    "upload['Exited']=result\n",
    "upload.to_csv('DecisionTreeupload.csv', encoding='utf-8')"
   ]
  },
  {
   "cell_type": "code",
   "execution_count": null,
   "id": "bf0233c0",
   "metadata": {},
   "outputs": [],
   "source": []
  }
 ],
 "metadata": {
  "kernelspec": {
   "display_name": "Python 3 (ipykernel)",
   "language": "python",
   "name": "python3"
  },
  "language_info": {
   "codemirror_mode": {
    "name": "ipython",
    "version": 3
   },
   "file_extension": ".py",
   "mimetype": "text/x-python",
   "name": "python",
   "nbconvert_exporter": "python",
   "pygments_lexer": "ipython3",
   "version": "3.8.6"
  }
 },
 "nbformat": 4,
 "nbformat_minor": 5
}
